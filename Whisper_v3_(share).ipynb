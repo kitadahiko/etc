{
  "cells": [
    {
      "cell_type": "markdown",
      "metadata": {
        "id": "view-in-github",
        "colab_type": "text"
      },
      "source": [
        "<a href=\"https://colab.research.google.com/github/piccoripico/etc/blob/master/Whisper_v3_(share).ipynb\" target=\"_parent\"><img src=\"https://colab.research.google.com/assets/colab-badge.svg\" alt=\"Open In Colab\"/></a>"
      ]
    },
    {
      "cell_type": "markdown",
      "metadata": {
        "id": "DKktR-BfJp__"
      },
      "source": [
        "使い方\n",
        "\n",
        "\n",
        "1.   文字起こししたいファイルを用意する（音声ファイル又は動画ファイル）\n",
        "2.   実行ボタンをクリック（左下のこのボタン→）![image.png](data:image/png;base64,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)\n",
        "1.   ファイルをアップロード（実行後に下部に表示されるボタンから）\n",
        "2.   txtファイルが出力されるまで待つ（90分のファイルなら10分程度？）\n",
        "\n",
        "\n",
        "*   複数ファイル一括アップロード可\n",
        "*   GoogleDriveFilesフラグ　直接アップロードする代わりにGoogleDriveのファイルを文字起こしする（ファイルパスは手入力）\n",
        "*   isJapaneseLanguageフラグ　言語を日本語に指定（チェックなしの場合は自動判定）\n",
        "*   isTranslateIntoEnglish_NoOriginalFileフラグ　英語に翻訳（※翻訳後の英語しか出力されない）\n",
        "*   isTimeフラグ　ダウンロードするtxtファイルに開始時刻情報を追加\n",
        "*   isExcelフラグ　生データをエクセルファイルでダウンロード（txtファイルに加えて）\n",
        "*   Google Colabの利用状況が重いか文字起こしの負荷をかけすぎると処理が止まるかも（CUDA out of memory error）→その場合は一旦Disconnectしてやり直し"
      ]
    },
    {
      "cell_type": "code",
      "execution_count": null,
      "metadata": {
        "colab": {
          "base_uri": "https://localhost:8080/",
          "height": 52
        },
        "id": "7HY-BoFZBYE3",
        "outputId": "730ed2ad-d6b6-48cf-f33e-281d3f821228"
      },
      "outputs": [
        {
          "output_type": "stream",
          "name": "stdout",
          "text": [
            "Drive already mounted at /content/drive; to attempt to forcibly remount, call drive.mount(\"/content/drive\", force_remount=True).\n"
          ]
        },
        {
          "output_type": "stream",
          "name": "stderr",
          "text": [
            "Special tokens have been added in the vocabulary, make sure the associated word embeddings are fine-tuned or trained.\n"
          ]
        },
        {
          "output_type": "display_data",
          "data": {
            "text/plain": [
              "<IPython.core.display.Javascript object>"
            ],
            "application/javascript": [
              "\n",
              "    async function download(id, filename, size) {\n",
              "      if (!google.colab.kernel.accessAllowed) {\n",
              "        return;\n",
              "      }\n",
              "      const div = document.createElement('div');\n",
              "      const label = document.createElement('label');\n",
              "      label.textContent = `Downloading \"${filename}\": `;\n",
              "      div.appendChild(label);\n",
              "      const progress = document.createElement('progress');\n",
              "      progress.max = size;\n",
              "      div.appendChild(progress);\n",
              "      document.body.appendChild(div);\n",
              "\n",
              "      const buffers = [];\n",
              "      let downloaded = 0;\n",
              "\n",
              "      const channel = await google.colab.kernel.comms.open(id);\n",
              "      // Send a message to notify the kernel that we're ready.\n",
              "      channel.send({})\n",
              "\n",
              "      for await (const message of channel.messages) {\n",
              "        // Send a message to notify the kernel that we're ready.\n",
              "        channel.send({})\n",
              "        if (message.buffers) {\n",
              "          for (const buffer of message.buffers) {\n",
              "            buffers.push(buffer);\n",
              "            downloaded += buffer.byteLength;\n",
              "            progress.value = downloaded;\n",
              "          }\n",
              "        }\n",
              "      }\n",
              "      const blob = new Blob(buffers, {type: 'application/binary'});\n",
              "      const a = document.createElement('a');\n",
              "      a.href = window.URL.createObjectURL(blob);\n",
              "      a.download = filename;\n",
              "      div.appendChild(a);\n",
              "      a.click();\n",
              "      div.remove();\n",
              "    }\n",
              "  "
            ]
          },
          "metadata": {}
        },
        {
          "output_type": "display_data",
          "data": {
            "text/plain": [
              "<IPython.core.display.Javascript object>"
            ],
            "application/javascript": [
              "download(\"download_444648f7-8e7c-48d7-8698-2ae04b3afc2a\", \"01.mp3.txt\", 15106)"
            ]
          },
          "metadata": {}
        },
        {
          "output_type": "display_data",
          "data": {
            "text/plain": [
              "<IPython.core.display.Javascript object>"
            ],
            "application/javascript": [
              "\n",
              "    async function download(id, filename, size) {\n",
              "      if (!google.colab.kernel.accessAllowed) {\n",
              "        return;\n",
              "      }\n",
              "      const div = document.createElement('div');\n",
              "      const label = document.createElement('label');\n",
              "      label.textContent = `Downloading \"${filename}\": `;\n",
              "      div.appendChild(label);\n",
              "      const progress = document.createElement('progress');\n",
              "      progress.max = size;\n",
              "      div.appendChild(progress);\n",
              "      document.body.appendChild(div);\n",
              "\n",
              "      const buffers = [];\n",
              "      let downloaded = 0;\n",
              "\n",
              "      const channel = await google.colab.kernel.comms.open(id);\n",
              "      // Send a message to notify the kernel that we're ready.\n",
              "      channel.send({})\n",
              "\n",
              "      for await (const message of channel.messages) {\n",
              "        // Send a message to notify the kernel that we're ready.\n",
              "        channel.send({})\n",
              "        if (message.buffers) {\n",
              "          for (const buffer of message.buffers) {\n",
              "            buffers.push(buffer);\n",
              "            downloaded += buffer.byteLength;\n",
              "            progress.value = downloaded;\n",
              "          }\n",
              "        }\n",
              "      }\n",
              "      const blob = new Blob(buffers, {type: 'application/binary'});\n",
              "      const a = document.createElement('a');\n",
              "      a.href = window.URL.createObjectURL(blob);\n",
              "      a.download = filename;\n",
              "      div.appendChild(a);\n",
              "      a.click();\n",
              "      div.remove();\n",
              "    }\n",
              "  "
            ]
          },
          "metadata": {}
        },
        {
          "output_type": "display_data",
          "data": {
            "text/plain": [
              "<IPython.core.display.Javascript object>"
            ],
            "application/javascript": [
              "download(\"download_cb73dee9-e621-430f-bff9-cce777ac1ca8\", \"01.mp3.xlsx\", 13835)"
            ]
          },
          "metadata": {}
        }
      ],
      "source": [
        "#@title Whisper Transcription\n",
        "\n",
        "# GoogleDriveのファイルを使う or 直接アップロードする\n",
        "GoogleDriveFiles = False #@param {type:\"boolean\"}\n",
        "\n",
        "# GoogleDriveのファイルを使う場合（ファイルパスの手入力が必要）\n",
        "if GoogleDriveFiles:\n",
        "    # GoogleDriveをマウント\n",
        "    from google.colab import drive, files\n",
        "    drive.mount('/content/drive')\n",
        "\n",
        "    #////////////////////////////////////////////////////#\n",
        "    # /content/drive/MyDrive/～～のファイルパスを手入力\n",
        "    meeting_file_paths = [\n",
        "        \"/content/drive/MyDrive/01.mp4\",\n",
        "        \"/content/drive/MyDrive/02.mp4\",\n",
        "    ]\n",
        "    #////////////////////////////////////////////////////#\n",
        "\n",
        "# 直接アップロードする場合（アップロードする分の時間がかかる）\n",
        "else:\n",
        "    from google.colab import files\n",
        "    import sys\n",
        "\n",
        "    def upload_files():\n",
        "        uploaded_files = files.upload()\n",
        "        if not uploaded_files:\n",
        "            print(\"No file was uploaded. Exiting the program.\")\n",
        "            sys.exit()\n",
        "        return uploaded_files\n",
        "\n",
        "    uploaded = upload_files()\n",
        "\n",
        "    # アップロード先となるColab上のファイルパスを格納\n",
        "    meeting_file_paths = []\n",
        "    for meeting_file_name in uploaded.keys():\n",
        "        meeting_file_path = \"/content/\" + meeting_file_name\n",
        "        meeting_file_paths.append(meeting_file_path)\n",
        "\n",
        "# https://huggingface.co/openai/whisper-large-v3\n",
        "\n",
        "# pip installはColab上でセルを分けた方がプログラム的には良いが、\n",
        "# 実行ボタン1回押した後は放置して処理したいためこの位置に記述\n",
        "# フラグのファイルパスを設定\n",
        "pip_flg = 'upgrades_done.flag'\n",
        "# フラグファイルが存在しない場合にのみアップグレードを実行\n",
        "import os\n",
        "if not os.path.exists(pip_flg):\n",
        "    !pip install --upgrade pip\n",
        "    !pip install --upgrade git+https://github.com/huggingface/transformers.git accelerate datasets[audio]\n",
        "    # アップグレード後、フラグファイルを作成して次回の実行をスキップ\n",
        "    with open(pip_flg, 'w') as f:\n",
        "        f.write('Upgrades done')\n",
        "\n",
        "import torch\n",
        "from transformers import AutoModelForSpeechSeq2Seq, AutoProcessor, pipeline\n",
        "# from datasets import load_dataset\n",
        "\n",
        "device = \"cuda:0\" if torch.cuda.is_available() else \"cpu\"\n",
        "torch_dtype = torch.float16 if torch.cuda.is_available() else torch.float32\n",
        "\n",
        "model_id = \"openai/whisper-large-v3\"\n",
        "\n",
        "model = AutoModelForSpeechSeq2Seq.from_pretrained(\n",
        "    model_id, torch_dtype=torch_dtype, low_cpu_mem_usage=True, use_safetensors=True\n",
        ")\n",
        "model.to(device)\n",
        "\n",
        "processor = AutoProcessor.from_pretrained(model_id)\n",
        "\n",
        "pipe = pipeline(\n",
        "    \"automatic-speech-recognition\",\n",
        "    model=model,\n",
        "    tokenizer=processor.tokenizer,\n",
        "    feature_extractor=processor.feature_extractor,\n",
        "    max_new_tokens=128,\n",
        "    chunk_length_s=30,\n",
        "    batch_size=16,\n",
        "    return_timestamps=True,\n",
        "    torch_dtype=torch_dtype,\n",
        "    device=device,\n",
        ")\n",
        "\n",
        "# ファイルパスごとに処理\n",
        "for file_path in meeting_file_paths:\n",
        "    # フラグ：日本語指定、英語翻訳\n",
        "    isJapaneseLanguage = True #@param {type:\"boolean\"}\n",
        "    isTranslateIntoEnglish_NoOriginalFile = False #@param {type:\"boolean\"}\n",
        "\n",
        "    # フラグに応じてWhisperのパラメータを変更\n",
        "    if isJapaneseLanguage == True & isTranslateIntoEnglish_NoOriginalFile == True:\n",
        "        pipe_param_list = {'language': 'japanese', 'task': 'translate'}\n",
        "    elif isTranslateIntoEnglish_NoOriginalFile == True:\n",
        "        pipe_param_list = {'task': 'translate'}\n",
        "    elif isJapaneseLanguage == True:\n",
        "        pipe_param_list = {'language': 'japanese'}\n",
        "    else:\n",
        "        pipe_param_list = {}\n",
        "\n",
        "    # Whisper実行\n",
        "    transcribe = pipe(\n",
        "        file_path,\n",
        "        return_timestamps=True,\n",
        "        generate_kwargs=pipe_param_list\n",
        "    )\n",
        "\n",
        "    # Whisper出力ファイルのリスト'chunks'の'text'ごとに改行\n",
        "    # 開始時間情報フラグに応じ、txtファイルに開始時刻情報を加える\n",
        "    transcript = \"\"\n",
        "    isTime = True #@param {type:\"boolean\"}\n",
        "    if isTime:\n",
        "        import datetime\n",
        "        for chunk in transcribe['chunks']:\n",
        "            # 秒数を時間、分、秒に分解する\n",
        "            start_time = chunk['timestamp'][0]\n",
        "            hours, remainder = divmod(start_time, 3600)\n",
        "            minutes, seconds = divmod(remainder, 60)\n",
        "            # datetimeオブジェクトを作成する\n",
        "            chunk_time = datetime.time(hour=int(hours), minute=int(minutes), second=int(seconds))\n",
        "            # 時刻の文字列を作成する\n",
        "            chunk_time = chunk_time.strftime('%H:%M:%S')\n",
        "\n",
        "            transcript += \"[\" + chunk_time + \"] \" + chunk['text'] + \"\\n\"\n",
        "    else:\n",
        "        # 'chunks'の'text'のみ抽出\n",
        "        for chunk in transcribe['chunks']:\n",
        "            transcript += chunk['text'] + \"\\n\"\n",
        "\n",
        "    # txtファイルを作成してダウンロード\n",
        "    meeting_text = file_path + '.txt'\n",
        "    with open(meeting_text, 'w', encoding='utf-8') as f:\n",
        "        f.writelines(transcript)\n",
        "    files.download(meeting_text)\n",
        "\n",
        "    # Excel形式でダウンロード\n",
        "    # https://tech.briswell.com/entry/2022/09/28/192306\n",
        "    # https://www.yutaka-note.com/entry/pandas_to_excel\n",
        "    isExcel = True #@param {type:\"boolean\"}\n",
        "    if isExcel:\n",
        "        import pandas as pd\n",
        "        # Whisper出力ファイルのリスト'chunks'をデータフレームに変換\n",
        "        df = pd.DataFrame(transcribe[\"chunks\"])\n",
        "        # 'chunks'の'timestamp'リストを開始時刻と終了時刻に分割して追加\n",
        "        df[['start_time', 'end_time']] = pd.DataFrame(df['timestamp'].tolist(), index=df.index)\n",
        "        # （'timestamp'自体は削除）\n",
        "        df = df.drop('timestamp', axis=1)\n",
        "        # 列を並び替え\n",
        "        df = df[['start_time', 'end_time', 'text']]\n",
        "        # エクセルファイルに変換\n",
        "        meeting_excel = file_path + '.xlsx'\n",
        "        df.to_excel(meeting_excel, index=False)\n",
        "        # ダウンロード\n",
        "        files.download(meeting_excel)\n",
        "\n",
        "    # （確認用）Colab上でプリント\n",
        "    # print(transcribe)\n",
        "    # print(transcript)"
      ]
    }
  ],
  "metadata": {
    "accelerator": "GPU",
    "colab": {
      "machine_shape": "hm",
      "provenance": [],
      "gpuClass": "premium",
      "authorship_tag": "ABX9TyM5gyv3OT+NoX9BEYWE9HHt",
      "include_colab_link": true
    },
    "gpuClass": "premium",
    "kernelspec": {
      "display_name": "Python 3",
      "name": "python3"
    },
    "language_info": {
      "name": "python"
    }
  },
  "nbformat": 4,
  "nbformat_minor": 0
}