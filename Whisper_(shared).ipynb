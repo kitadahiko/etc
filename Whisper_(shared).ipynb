{
  "nbformat": 4,
  "nbformat_minor": 0,
  "metadata": {
    "colab": {
      "provenance": [],
      "authorship_tag": "ABX9TyP7G3ma6p25cMetd9c4qRhF",
      "include_colab_link": true
    },
    "kernelspec": {
      "name": "python3",
      "display_name": "Python 3"
    },
    "language_info": {
      "name": "python"
    },
    "accelerator": "GPU",
    "gpuClass": "standard"
  },
  "cells": [
    {
      "cell_type": "markdown",
      "metadata": {
        "id": "view-in-github",
        "colab_type": "text"
      },
      "source": [
        "<a href=\"https://colab.research.google.com/github/piccoripico/etc/blob/master/Whisper_(shared).ipynb\" target=\"_parent\"><img src=\"https://colab.research.google.com/assets/colab-badge.svg\" alt=\"Open In Colab\"/></a>"
      ]
    },
    {
      "cell_type": "markdown",
      "source": [
        "使い方\n",
        "\n",
        "\n",
        "1.   文字起こししたいファイルを用意する（音声ファイル又は動画ファイル）\n",
        "2.   実行ボタンをクリック（左下のこのボタン→）![image.png](data:image/png;base64,iVBORw0KGgoAAAANSUhEUgAAAGgAAABrCAYAAACbiMcPAAAMoUlEQVR4nO2df1CU953HX7vwoAtaNO72fAQebBYTVof1BCZw1k3apRbiJJPgFeoU/jDehLNjvHTu6rQld2NyrbnOSBtt4zQ4h+ncQaYJc41T7TXEaNqutSEDZITRtQrGXQPrBSZKTFjhye7eH/uDXVh+uSs8pt/XDMPs9/P9tc/7+Xx/Pd/nu7qSkpIAUfh8PgKBAJIkIVh49NEf/H4/AIFAIG5kwfwTI1AgECAQCESEEiw8+niBwoO0wySBhDjaIiJQdLMmmjjtELeJE2gHIZDGEX2QxhEepHGEQBpHCKRxhEAaRwikcTQgUAlPH2iiqWkv1TPGlan+t5doanqJ+i3zUDUNkHrbKR+t56XHzdD3OjufPz7B+Aj1L1Vipo/Xdz5PrNVAzb+/iD3LS/fLT3Hw9FwKvcGICjDC8I3brvmCUfJPL1K33jCruN6zh3nqZ+0JCNQ1wI3HzZiMuRQCXdG2zfkoEoBC/mY4fiLa+CCyEVAH6JuTOABejv94JxNvh7uFjz2XcGcuiwoxYFptwqAO4+kfRo2y3PB8DCTiQf3tXB6yYTLmYM2Crv5xU4llNcHHfRKrLSVwon3cWJzHqkVAv4uTt1343Ymz9SDPxYRUs7epHOWWi2M/PEh7nDS3LxBOXEMqJcZlrCoEIgJZKVYMcNODBxk5az0W2nGGrPK6HDKBwf4uvBOzNJfz9I5Hsa4MNQPDHhzH9vPLt4fHv9KzTZTneOlueoqDZ0KBBguPPFlDxVoZQ+hBsHeojz+/+gItXd4JaT2cOvAOxm0V4+V4PXQff5mDb/RN+pbmil088fUC5Mxgxuqwh543X+ZQJG4JTx+ow7rUzanmISx/X4hsAPcb/8BzrXO+qLFs25vYIKHtigeQWGW2jQeuKyVnOaj9Dhz9KhjvpSRr3FyUtQxQGbrsnJCbjH1PNVbDDdxX3LiveSFTxvbN71CdxTSYqf7e01Sul0n9xIPz3Xac/cOkGs3Yd+1j18aJ8WXs36mMLccgY63aQ/2jsf2Dedte9lQVIuuH6DvbTvclD58tlSms2sPeKnlSvrZvFiIvUlFHVdQkPRBIwIOAMy4GKxRMsgULDpyAXHwvJlT6LrTRRhGV+WZybQb4lRcowfxFCdQ+LpyYmJnEyIUWnjtwiqC/GCjfs5/qfAXrQwZee2WSvwUprqA0R4IPHez/wS8J39fmb/2IPWUyBV95BM7E9lrDPdHlhITYrGB+aAfWY4foBjBv58nNCvSfouE/WnCGizfX8KM9dpSHarC3NnBqyvonh8SG2f3dXB0GjDIFBgADti+ZAA+9bwFv9eIB5HvLgvGzLMhLgesDdE7KzENnY/SX89J2dRCAZUbr1HVISyUNYHSEgajgvtcPsf+nDRx8xTEhgRfXu7EXse9Xr9NzHVieQ+m6YJjla/mYUOl1RIkD0NdC9zXAYCRv3XT1Tw6JeRBd9HpUCjNllE3AiTLyVgJXnRzzAjhwfViOkp1POcdp25iLCRj+oBvPpLxU1CmcZFrOvIPzG1YKc8p58adWunveoet0Jx2XPPSdm1xKfLrp/sBL4XIT8lrgHBTIJgAs25po2hYvzRIMmUmo/wwkKBD88aqH6nwF472WyPB68H1HaADgof3KILYHVpO/EUayTIDKwMWu6TOdE+0ceuZjHtleg71QxrqpEuumSrZ7B+k78xovvBJnMBKHsXCfkRIdOkzf25244vYnI7hdidZ9ZhIWyOtwMbhZwZRVSPkX8pAY5HLH+J3rPH2ZwQdKkAvsWGQD4MY9qf9JtBJOjv/iXzkOZK4upHSTna9utGAu28XepQf5fmP3jFksWxS6FL7o0DQ+vdxCy5l4KeaHxJd6+p14bgJfyKXIKMHQZRznouznzuK5CaasUoyZwIcuJvYKiWApq6bmW9XYzcHPw1e6aGtu4Ps/cTAImO63UThjLlby/kYCBvGcD+XzqQoYyF0/Tf83DyRhLa6dC/0qLDVjNoK3/yzOePYvKigSeD3OOP1PAuQVYi8rZ+ujNmIGyUsygoMHVZ3QxBnILY6Na95WScFy4PpV3gndXG1/cuIFMtdXU5NviElvqd3Lj/+5HHMyv8cUJNzEwXg/BF6u9EyeD7ddcFOZb0ZCpdcZb758+zj/67d0378da8F2Xmiw4zzXi3e5BatFxoCKu+MYE2dcmevDcV2QbcWyOhOJYbqPHiHSGJ45zKsb9rG9UMb+L/ux9F2i97pE3po85OUS6tVe0gwwqw4uAZIikLfHE+yHRq/Q83acCG/14nncjIIH95zX32Yq3MHBH45R84+V/N1qBesmBQjO+LvefJlDb0z0Vy/d//MGfLkiEjeyknDaGxPPcegZhrbsoOZrBchrrMgAo8O4336VA83tSR9Sx0MX3jzv9/sJBAL4fD4+++wzMjIy5qH4+SXuMpHG0cDzIMF0CIE0jhBI4/xV9UF3I8KDNI4QSOMIgTSOEEjjCIE0jhBI4wiBNI4QSOMIgTSOEEjjCIE0jhBI40z5RHXVqlXzWY85MzAwMHOkzwHCgzSOEEjjCIE0jhBI4wiBNI4QSOMIgTSOEEjjCIE0TlL2ZsfDZrNhsVhQFIXc3FwAXC4Xbrebzs5OOjsnvwQpmEzSBSoqKqKmpgaTyTTJlpubS25uLjabjcHBQVpaWoRQM5CSnZ39LIyftBg+N3vFihVzzqy2tpba2tpZbXrMyMigtLSU9PR0enp65lzWzZs355zmbiRpfVBtbS3l5eVzTldRUUFtbW2yqvG5IykCFRUV3ZY4YcrLyykqKkpGVT53JEWg6TzA7XbPKo+amppkVGVhURpYvPskizdXJS3LhAWy2WwYjcYp7fv27eP06ZlfqzOZTNr3osydpFb9BsOuk6TvPkn6zt+QZruzN1bCAq1du3Za+8jICI2NjRw+fBivd/oXOouLixOtzh2kCmlrFWkrwXfRwei7DtSPIPVvd7C4LHkeM5GEh9mKoswqnsPhwO12U1dXN2WanJycRKtz51BKSFkC/stHGTtxBABfexXs2ImU9yD6k61EzrtYUoL0xE6kJcCYh9E39+B7P/SubOZOpC1bkIzBka5/6D3G/ve7+IcJNpGPbYDzP+fWyaOw5NnEPWi2AkFwojpdkxee0GqSj64TAPQ5dlKy80KBrahHyhhp3E30YST6VffB+6cY7XHjT5NZVLojZHmYlMeqkIyg9gTtGDew+LHn0QG4z+MbA/2K0CFA9+feuZWE6bgrT7f/ZB+jZ/JYvFFhUWUjeD9CdbXj+0MD/rHYqP7e/0b9fStgB+UZFi1X0AP++7YgZYLv3C9Qf/+7YFx9K4Z1G0i9D9SLR/Bdq0FauTLoOdlK4h4021EaBD2kvr4em80W1z6XvBaEzie41fhzRi+48XEPUv7DLH6yFelLE86Oi7jTqeA5CilpQQ9ZuRI9Y/g/+F0kauCDa/hJQ2/aEEw65IG0XFKyd5CyMgmDhNleVJvNRn19/bTNmOYFAhg7iu/EE4z+Zxkjv30Pv/4eJNvuxPNNWR78/xc3PjLQrVtLStpHiQt0/vz5ae3p6enU1dVRV1dHenr6tHE7OjoSrc6d48FW0nefRCqK8pbL7fg+BZasmN2FvBbyluyHI0G67JBXXQsdDTjUi38MUs0b0H/qSrwPcjgcbN26dcq50ExeE2ZoaEjbC6dn21HXPoxU2ojuni58H6voVpUgZUBg4BKzOgHz4h/xfXkt0rpvI/kL8ZOHtO4e+OQ9fBfDkUL9kAL+/zufnJWE5ubmKW2zHZlNl4cmGG5Afa2VsQ8h5T4bix6wkyaDz3WKW0cbZplJK+qvW1GHQCqws6hAgaH3uPXr78YI7PcEh+Q+95GpX8Nfs2bNnOp/u4ulAG1tbXMWSOwsnSPNzc20tbXNOd3tiPPXRFLnQc3NzTidTmpra6ddn4Ngn9Pc3KztfkcDJH2iGn6cXVRURHFxMYqiRFYb3G43brebjo4OIcwsuWMrCWLfQXIQu3o0jhBI4wiBNI4QSOMIgTSOEEjjCIE0jhBI4wiBNM4kgXQ63ULUQzAFwoM0jhBI40QEim7aRDOnHYQHaRwhkMYRAmmcGIF0Ol3kT6ANUnU6Xcxe6bBAly5dwufz4fP5Ijt+4C7dV30XE3nkHfaaQCCAXq/H7/eTkhL8UVG9Xj9JGCHU/JAKQXHCF1yn06HX60lNTcXv96PT6fD7k/TL4YI5E+NBgUAg4kk6nY6UlJTIf+ExC0PMrp5w0xb2onBzF40Qan6ZtO0qnicJFo64Ak0c2QkWjik3LkbPh8QQe+GY1c5S0dwtHGKpR+MIgTSOEEjjCIE0zv8DcYiEibxp8SgAAAAASUVORK5CYII=)\n",
        "1.   ファイルをアップロード（実行後に下部に表示されるボタンから）\n",
        "2.   文字起こしテキストファイルが出力されるまで待つ（90分のファイルなら30分～1時間？）\n",
        "\n",
        "\n",
        "*   複数ファイル一括アップロード可\n",
        "*   isTimeフラグ　ダウンロードするテキストファイルに開始時間情報を追加\n",
        "*   isRawDataTableフラグ　生データをエクセルファイルでダウンロード\n",
        "*   Google Colabの利用状況が重いか文字起こしの負荷をかけすぎると処理が止まるかも（CUDA out of memory error）→その場合は一旦Disconnectしてやり直し"
      ],
      "metadata": {
        "id": "SBXAaSAu7cf1"
      }
    },
    {
      "cell_type": "code",
      "execution_count": null,
      "metadata": {
        "id": "gpJYCFs97JYy",
        "cellView": "form"
      },
      "outputs": [],
      "source": [
        "#@title Whisper Transcription\n",
        "# 議事録音声ファイルのアップロード\n",
        "from google.colab import files\n",
        "uploaded = files.upload()\n",
        "\n",
        "# Colab上のパスを格納\n",
        "meeting_file_paths = []\n",
        "for meeting_file_name in uploaded.keys():\n",
        "    meeting_file_path = \"/content/\" + meeting_file_name\n",
        "    meeting_file_paths.append(meeting_file_path)\n",
        "\n",
        "# https://internet.watch.impress.co.jp/docs/column/teleworkstory/1452677.html\n",
        "# https://qiita.com/sakasegawa/items/3855472a8566ea302a99\n",
        "# WhisperのモデルはGihHubのページ参照（時間がかかるがLargeでないと日本語の文字起こしは難しい模様）\n",
        "!pip install openai\n",
        "!pip install git+https://github.com/openai/whisper.git\n",
        "import whisper\n",
        "model = whisper.load_model(\"large\")\n",
        "\n",
        "# 格納したパスごとに処理\n",
        "import datetime\n",
        "for meeting_file_path in meeting_file_paths:\n",
        "    # Whisper実行 \n",
        "    transcribe = model.transcribe(meeting_file_path)\n",
        "\n",
        "    # 処理結果ファイルのsegmentsのtextごとに改行\n",
        "    transcript = \"\"\n",
        "    isTime = True #@param {type:\"boolean\"}\n",
        "    if isTime:\n",
        "        for seg in transcribe['segments']:\n",
        "            # 秒数を時間、分、秒に分解する\n",
        "            hours, remainder = divmod(seg['start'], 3600)\n",
        "            minutes, seconds = divmod(remainder, 60)\n",
        "            # datetimeオブジェクトを作成する\n",
        "            seg_time = datetime.time(hour=int(hours), minute=int(minutes), second=int(seconds))\n",
        "            # 時刻の文字列を作成する\n",
        "            seg_time = seg_time.strftime('%H:%M:%S')\n",
        "\n",
        "            transcript += \"[\" + seg_time + \"] \" + seg['text'] + \"\\n\"\n",
        "    else:\n",
        "        for seg in transcribe['segments']:\n",
        "            transcript += seg['text'] + \"\\n\"\n",
        "\n",
        "    # Colabにプリント\n",
        "    # print(transcribe)\n",
        "    # print(transcript)\n",
        "\n",
        "    # txtファイルを作成してダウンロード\n",
        "    meeting_text = meeting_file_path + '.txt'\n",
        "    with open(meeting_text, 'w') as f:\n",
        "        f.writelines(transcript)\n",
        "    files.download(meeting_text)\n",
        "\n",
        "    # 生データをテーブル表示で見る\n",
        "    # https://tech.briswell.com/entry/2022/09/28/192306\n",
        "    # https://www.yutaka-note.com/entry/pandas_to_excel\n",
        "    isRawDataTable = True #@param {type:\"boolean\"}\n",
        "    if isRawDataTable:\n",
        "        import pandas as pd\n",
        "        df = pd.DataFrame(transcribe[\"segments\"])[[\"id\", \"seek\", \"start\", \"end\", \"text\", \"tokens\", \"temperature\", \"avg_logprob\", \"compression_ratio\", \"no_speech_prob\"]]\n",
        "        # print(df)\n",
        "        meeting_table = meeting_file_path + '.xlsx'\n",
        "        df.to_excel(meeting_table, index=False)\n",
        "        files.download(meeting_table)"
      ]
    }
  ]
}